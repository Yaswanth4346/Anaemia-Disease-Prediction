{
 "cells": [
  {
   "cell_type": "code",
   "execution_count": 2,
   "metadata": {},
   "outputs": [
    {
     "name": "stdout",
     "output_type": "stream",
     "text": [
      "<class 'pandas.core.frame.DataFrame'>\n",
      "RangeIndex: 1421 entries, 0 to 1420\n",
      "Data columns (total 6 columns):\n",
      " #   Column      Non-Null Count  Dtype  \n",
      "---  ------      --------------  -----  \n",
      " 0   Gender      1421 non-null   int64  \n",
      " 1   Hemoglobin  1421 non-null   float64\n",
      " 2   MCH         1421 non-null   float64\n",
      " 3   MCHC        1421 non-null   float64\n",
      " 4   MCV         1421 non-null   float64\n",
      " 5   Result      1421 non-null   int64  \n",
      "dtypes: float64(4), int64(2)\n",
      "memory usage: 66.7 KB\n"
     ]
    },
    {
     "data": {
      "text/plain": [
       "(None,\n",
       "    Gender  Hemoglobin   MCH  MCHC   MCV  Result\n",
       " 0       1        14.9  22.7  29.1  83.7       0\n",
       " 1       0        15.9  25.4  28.3  72.0       0\n",
       " 2       0         9.0  21.5  29.6  71.2       1\n",
       " 3       0        14.9  16.0  31.4  87.5       0\n",
       " 4       1        14.7  22.0  28.2  99.5       0)"
      ]
     },
     "execution_count": 2,
     "metadata": {},
     "output_type": "execute_result"
    }
   ],
   "source": [
    "import pandas as pd\n",
    "\n",
    "# Load the dataset\n",
    "file_path = 'anemia data from Kaggle.csv'\n",
    "data = pd.read_csv(file_path)\n",
    "\n",
    "# Display basic info and the first few rows to understand the dataset\n",
    "data_info = data.info()\n",
    "data_head = data.head()\n",
    "\n",
    "data_info, data_head"
   ]
  },
  {
   "cell_type": "code",
   "execution_count": 3,
   "metadata": {},
   "outputs": [
    {
     "data": {
      "text/plain": [
       "((1136, 5), (285, 5), (1136,), (285,))"
      ]
     },
     "execution_count": 3,
     "metadata": {},
     "output_type": "execute_result"
    }
   ],
   "source": [
    "from sklearn.model_selection import train_test_split\n",
    "from sklearn.preprocessing import StandardScaler\n",
    "\n",
    "# Separate features and labels\n",
    "X = data.drop('Result', axis=1)  # Features\n",
    "y = data['Result']  # Target (label)\n",
    "\n",
    "# Split the data into training and test sets (80% training, 20% testing)\n",
    "X_train, X_test, y_train, y_test = train_test_split(X, y, test_size=0.2, random_state=42)\n",
    "\n",
    "# Scale the features\n",
    "scaler = StandardScaler()\n",
    "X_train_scaled = scaler.fit_transform(X_train)\n",
    "X_test_scaled = scaler.transform(X_test)\n",
    "\n",
    "# Display the shapes of the resulting datasets to confirm preprocessing\n",
    "X_train_scaled.shape, X_test_scaled.shape, y_train.shape, y_test.shape"
   ]
  },
  {
   "cell_type": "code",
   "execution_count": 4,
   "metadata": {},
   "outputs": [
    {
     "data": {
      "text/plain": [
       "(0.9894736842105263,\n",
       " array([[154,   3],\n",
       "        [  0, 128]], dtype=int64),\n",
       " '              precision    recall  f1-score   support\\n\\n           0       1.00      0.98      0.99       157\\n           1       0.98      1.00      0.99       128\\n\\n    accuracy                           0.99       285\\n   macro avg       0.99      0.99      0.99       285\\nweighted avg       0.99      0.99      0.99       285\\n')"
      ]
     },
     "execution_count": 4,
     "metadata": {},
     "output_type": "execute_result"
    }
   ],
   "source": [
    "from sklearn.linear_model import LogisticRegression\n",
    "from sklearn.metrics import accuracy_score, classification_report, confusion_matrix\n",
    "\n",
    "# Initialize and train the Logistic Regression model\n",
    "logreg = LogisticRegression(random_state=42)\n",
    "logreg.fit(X_train_scaled, y_train)\n",
    "\n",
    "# Make predictions on the test set\n",
    "y_pred = logreg.predict(X_test_scaled)\n",
    "\n",
    "# Evaluate the model's performance\n",
    "accuracy = accuracy_score(y_test, y_pred)\n",
    "conf_matrix = confusion_matrix(y_test, y_pred)\n",
    "class_report = classification_report(y_test, y_pred)\n",
    "\n",
    "accuracy, conf_matrix, class_report"
   ]
  },
  {
   "cell_type": "code",
   "execution_count": 5,
   "metadata": {},
   "outputs": [],
   "source": [
    "import pickle\n",
    "from sklearn.linear_model import LogisticRegression\n",
    "from sklearn.preprocessing import StandardScaler\n",
    "from sklearn.model_selection import train_test_split\n",
    "\n",
    "# Assuming X_train_scaled, y_train, and the trained Logistic Regression model (logreg) exist\n",
    "\n",
    "# 1. Save the trained Logistic Regression model\n",
    "with open('logistic_regression_model.pkl', 'wb') as model_file:\n",
    "    pickle.dump(logreg, model_file)\n",
    "\n",
    "# 2. Save the StandardScaler used for preprocessing\n",
    "with open('scaler.pkl', 'wb') as scaler_file:\n",
    "    pickle.dump(scaler, scaler_file)"
   ]
  },
  {
   "cell_type": "code",
   "execution_count": 6,
   "metadata": {},
   "outputs": [],
   "source": [
    "import pickle\n",
    "\n",
    "# Load the trained Logistic Regression model\n",
    "with open('logistic_regression_model.pkl', 'rb') as model_file:\n",
    "    model = pickle.load(model_file)\n",
    "\n",
    "# Load the StandardScaler\n",
    "with open('scaler.pkl', 'rb') as scaler_file:\n",
    "    scaler = pickle.load(scaler_file)"
   ]
  },
  {
   "cell_type": "code",
   "execution_count": 7,
   "metadata": {},
   "outputs": [
    {
     "name": "stdout",
     "output_type": "stream",
     "text": [
      "Anaemia Detected\n"
     ]
    },
    {
     "name": "stderr",
     "output_type": "stream",
     "text": [
      "c:\\Users\\rachi\\AppData\\Local\\Programs\\Python\\Python312\\Lib\\site-packages\\sklearn\\base.py:493: UserWarning: X does not have valid feature names, but StandardScaler was fitted with feature names\n",
      "  warnings.warn(\n"
     ]
    }
   ],
   "source": [
    "# Example new patient data\n",
    "new_patient_data = [[1, 13.5, 24.0, 30.0, 85.0]]  # Example input\n",
    "\n",
    "# Scale the new data using the loaded scaler\n",
    "new_patient_scaled = scaler.transform(new_patient_data)\n",
    "\n",
    "# Predict using the loaded model\n",
    "prediction = model.predict(new_patient_scaled)\n",
    "\n",
    "# Print prediction result\n",
    "result = 'Anaemia Detected' if prediction[0] == 1 else 'No Anaemia'\n",
    "print(result)"
   ]
  }
 ],
 "metadata": {
  "kernelspec": {
   "display_name": "Python 3",
   "language": "python",
   "name": "python3"
  },
  "language_info": {
   "codemirror_mode": {
    "name": "ipython",
    "version": 3
   },
   "file_extension": ".py",
   "mimetype": "text/x-python",
   "name": "python",
   "nbconvert_exporter": "python",
   "pygments_lexer": "ipython3",
   "version": "3.12.4"
  }
 },
 "nbformat": 4,
 "nbformat_minor": 2
}
